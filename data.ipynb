{
 "cells": [
  {
   "cell_type": "code",
   "execution_count": 1,
   "metadata": {},
   "outputs": [
    {
     "name": "stdout",
     "output_type": "stream",
     "text": [
      "Package           Version\n",
      "----------------- -------\n",
      "asttokens         2.2.1\n",
      "backcall          0.2.0\n",
      "comm              0.1.3\n",
      "contourpy         1.0.7\n",
      "cycler            0.11.0\n",
      "debugpy           1.6.6\n",
      "decorator         5.1.1\n",
      "executing         1.2.0\n",
      "fonttools         4.39.3\n",
      "ipykernel         6.22.0\n",
      "ipython           8.12.0\n",
      "jedi              0.18.2\n",
      "jupyter_client    8.1.0\n",
      "jupyter_core      5.3.0\n",
      "kiwisolver        1.4.4\n",
      "matplotlib        3.7.1\n",
      "matplotlib-inline 0.1.6\n",
      "nest-asyncio      1.5.6\n",
      "numpy             1.24.2\n",
      "packaging         23.0\n",
      "pandas            1.5.3\n",
      "parso             0.8.3\n",
      "pexpect           4.8.0\n",
      "pickleshare       0.7.5\n",
      "Pillow            9.4.0\n",
      "pip               22.0.2\n",
      "platformdirs      3.2.0\n",
      "prompt-toolkit    3.0.38\n",
      "psutil            5.9.4\n",
      "ptyprocess        0.7.0\n",
      "pure-eval         0.2.2\n",
      "Pygments          2.14.0\n",
      "pyparsing         3.0.9\n",
      "python-dateutil   2.8.2\n",
      "pytz              2023.3\n",
      "pyzmq             25.0.2\n",
      "setuptools        59.6.0\n",
      "six               1.16.0\n",
      "stack-data        0.6.2\n",
      "tornado           6.2\n",
      "traitlets         5.9.0\n",
      "wcwidth           0.2.6\n",
      "wheel             0.37.1\n"
     ]
    }
   ],
   "source": [
    "!pip3 list"
   ]
  },
  {
   "cell_type": "code",
   "execution_count": null,
   "metadata": {},
   "outputs": [],
   "source": []
  }
 ],
 "metadata": {
  "kernelspec": {
   "display_name": "venv",
   "language": "python",
   "name": "python3"
  },
  "language_info": {
   "codemirror_mode": {
    "name": "ipython",
    "version": 3
   },
   "file_extension": ".py",
   "mimetype": "text/x-python",
   "name": "python",
   "nbconvert_exporter": "python",
   "pygments_lexer": "ipython3",
   "version": "3.10.6"
  },
  "orig_nbformat": 4
 },
 "nbformat": 4,
 "nbformat_minor": 2
}
